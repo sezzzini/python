{
 "cells": [
  {
   "cell_type": "markdown",
   "metadata": {},
   "source": [
    "## 알고리즘 문제의 첫 단계 : 데이터 입력받기\n",
    "- 데이터 입력 : input() 이용한다.-> 얘는 한줄의 문자열을 입력받도록 해줌!\n",
    "- and 입력받은 데이터를 정수형 데이터로 처리하기 위해서는 int()함수를 이용해서 문자열을 정수로 바꿔야 한다\n",
    "\n",
    "### 입력받은 문자열을 띄어쓰기로 구분하여 각각 정수 자료형의 데이터로 저장하는 코드(사용빈도 높다)\n",
    "\n",
    "- map함수 : 반복가능한 iterable 객체 (반복적으로 하나하나 꺼내어 처리 가능한 컬렉션이나 객체를 말함)를 받아서, 각 요소에 함수를 적용해주는 함수\n",
    "- map(적용시킬 함수, 적용할 요소들)"
   ]
  },
  {
   "cell_type": "code",
   "execution_count": 4,
   "metadata": {},
   "outputs": [
    {
     "name": "stdout",
     "output_type": "stream",
     "text": [
      "[2, 3, 4, 5, 6]\n"
     ]
    }
   ],
   "source": [
    "def add_1(n):\n",
    "      return n + 1\n",
    "\n",
    "target = [1, 2, 3, 4, 5]\n",
    "\n",
    "result = map(add_1, target)\n",
    "\n",
    "# print(result) # 출력결과가 iterator 형이여서 맞는지 확인할 수 없음 -> list로 형변환 해서 보자\n",
    "print(list(result))"
   ]
  },
  {
   "cell_type": "code",
   "execution_count": 10,
   "metadata": {},
   "outputs": [
    {
     "name": "stdout",
     "output_type": "stream",
     "text": [
      "1\n",
      "1 2 3\n",
      "[1, 2, 3]\n",
      "3 4 5\n",
      "3 4 5\n"
     ]
    }
   ],
   "source": [
    "# 데이터의 개수 입력\n",
    "n = int(input()) # 입력한 후 바로 정수형으로 바꿔줌\n",
    "\n",
    "# 각 데이터를 공백으로 구분하여 입력\n",
    "data = list(map(int,input().split())) \n",
    "# 입력받은걸 split 을 이용해 공백으로 나눈 리스트로 바꾸고, map을 이용해 함수의 모든 원소에 int()적용\n",
    "# 최종적으로 결과를 list로 바꾼당.\n",
    "print(data)\n",
    "\n",
    "# 공백으로 구분된 데이터의 개수가 많지 않은 경우 : 단순히 (map(int, input().split())) 사용하는 것도 가능하당.\n",
    "# n, m, k를 공백으로 구분하여 입력\n",
    "n, m, k = map(int,input().split())\n",
    "print(n,m,k)"
   ]
  },
  {
   "cell_type": "markdown",
   "metadata": {},
   "source": [
    "### 입력 개수가 많은 경우 \n",
    "- 단순히 input()함수를 그대로 사용하지는 않음\n",
    "- input()은 동작 속도가 느려서 시간초과 위험 있음\n",
    "#### 이 경우 sys 라이브러리에 정의된 sys.stdin.readLine()함수를 사용하자.\n",
    "- sys 라이브러리 사용시 한 줄 입력을 받고나서 rstrip()함수를 꼭 호출해야함(오른쪽 공백 제거)\n",
    "- readLine()으로 입력하면 입력 후 엔터는 줄 바꿈 기호로 입력됨. 이 공백 문자를 제거하기 위함!\n"
   ]
  },
  {
   "cell_type": "code",
   "execution_count": 13,
   "metadata": {},
   "outputs": [
    {
     "name": "stdout",
     "output_type": "stream",
     "text": [
      "\n"
     ]
    }
   ],
   "source": [
    "# sys라이브러리 사용\n",
    "import sys\n",
    "\n",
    "# 문자열 입력받기\n",
    "data = sys.stdin.readline().rstrip()\n",
    "print(data) \n",
    "\n",
    "# jupyter notebook 에서는 지원하지 않음-> 다른걸로 실행해보기"
   ]
  },
  {
   "cell_type": "markdown",
   "metadata": {},
   "source": [
    "### 출력하기\n",
    "- print는 기본으로 줄바꿈 수행한다\n",
    "- 문자열 자료형 끼리만 더하기 연산이 가능. 문자열과 수를 더하면 오류 발생\n",
    "- str()을 이용해 변수 데이터를 문자열로 바꾸어 주거나 ,를 기준으로 자료형을 구분하여 출력\n",
    "- 파이썬 3.6부터 f-string 문법 사용 가능. 문자열 앞에 접두사 f를 붙임으로써 사용. {}안에 변수를 넣음으로써 자료형 변환 없이도 문자열과 정수 같이 넣기 ok"
   ]
  },
  {
   "cell_type": "code",
   "execution_count": 17,
   "metadata": {},
   "outputs": [
    {
     "name": "stdout",
     "output_type": "stream",
     "text": [
      "정답은 7 입니다\n",
      "정답은 7 입니다\n",
      "정답은 7 입니다\n"
     ]
    }
   ],
   "source": [
    "answer = 7\n",
    "print(\"정답은\",answer,\"입니다\")\n",
    "print(\"정답은 \" + str(answer) + \" 입니다\")\n",
    "print(f\"정답은 {answer} 입니다\")"
   ]
  }
 ],
 "metadata": {
  "kernelspec": {
   "display_name": "Python 3",
   "language": "python",
   "name": "python3"
  },
  "language_info": {
   "codemirror_mode": {
    "name": "ipython",
    "version": 3
   },
   "file_extension": ".py",
   "mimetype": "text/x-python",
   "name": "python",
   "nbconvert_exporter": "python",
   "pygments_lexer": "ipython3",
   "version": "3.8.5"
  }
 },
 "nbformat": 4,
 "nbformat_minor": 4
}
